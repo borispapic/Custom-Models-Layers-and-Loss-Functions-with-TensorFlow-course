{
  "nbformat": 4,
  "nbformat_minor": 0,
  "metadata": {
    "colab": {
      "name": "tf_spec_week_1.ipynb",
      "provenance": []
    },
    "kernelspec": {
      "name": "python3",
      "display_name": "Python 3"
    },
    "language_info": {
      "name": "python"
    }
  },
  "cells": [
    {
      "cell_type": "code",
      "metadata": {
        "id": "kFn7ypXI8koH"
      },
      "source": [
        "import tensorflow as tf\n",
        "from tensorflow.keras.layers import Input, Dense,Flatten\n",
        "from tensorflow.keras.models import Sequential, Model"
      ],
      "execution_count": 7,
      "outputs": []
    },
    {
      "cell_type": "code",
      "metadata": {
        "id": "SjgYQClI83Uc"
      },
      "source": [
        "seq_model = Sequential([\n",
        "                        Flatten(input_shape=(28,28)),\n",
        "                        Dense(128, activation='relu'),\n",
        "                        Dense(10,activation='softmax')\n",
        "])"
      ],
      "execution_count": 8,
      "outputs": []
    },
    {
      "cell_type": "code",
      "metadata": {
        "id": "zb5MkzYG9dNS"
      },
      "source": [
        "input = Input(shape=(28,28))\n",
        "x = Flatten()(input)\n",
        "x = Dense(128,activation='relu')(x)\n",
        "predictions = Dense(10,activation='softmax')(x)\n",
        "func_model = Model(inputs=input,outputs=predictions)"
      ],
      "execution_count": 9,
      "outputs": []
    },
    {
      "cell_type": "code",
      "metadata": {
        "colab": {
          "base_uri": "https://localhost:8080/"
        },
        "id": "Dl5VSBhDBOvq",
        "outputId": "a5284cbd-7259-4abe-da0e-1ce5e41e51ae"
      },
      "source": [
        "# prepare fashion mnist dataset\n",
        "mnist = tf.keras.datasets.fashion_mnist\n",
        "(training_images, training_labels), (test_images, test_labels) = mnist.load_data()\n",
        "training_images = training_images / 255.0\n",
        "test_images = test_images / 255.0\n",
        "\n",
        "# configure, train, and evaluate the model\n",
        "func_model.compile(optimizer=tf.optimizers.Adam(),\n",
        "              loss='sparse_categorical_crossentropy',\n",
        "              metrics=['accuracy'])\n",
        "func_model.fit(training_images, training_labels, epochs=5)\n",
        "func_model.evaluate(test_images, test_labels)"
      ],
      "execution_count": 11,
      "outputs": [
        {
          "output_type": "stream",
          "text": [
            "Epoch 1/5\n",
            "1875/1875 [==============================] - 4s 2ms/step - loss: 0.6319 - accuracy: 0.7802\n",
            "Epoch 2/5\n",
            "1875/1875 [==============================] - 3s 2ms/step - loss: 0.3847 - accuracy: 0.8622\n",
            "Epoch 3/5\n",
            "1875/1875 [==============================] - 3s 2ms/step - loss: 0.3434 - accuracy: 0.8750\n",
            "Epoch 4/5\n",
            "1875/1875 [==============================] - 3s 2ms/step - loss: 0.3232 - accuracy: 0.8816\n",
            "Epoch 5/5\n",
            "1875/1875 [==============================] - 3s 2ms/step - loss: 0.2987 - accuracy: 0.8903\n",
            "313/313 [==============================] - 0s 1ms/step - loss: 0.3579 - accuracy: 0.8690\n"
          ],
          "name": "stdout"
        },
        {
          "output_type": "execute_result",
          "data": {
            "text/plain": [
              "[0.35789793729782104, 0.8690000176429749]"
            ]
          },
          "metadata": {
            "tags": []
          },
          "execution_count": 11
        }
      ]
    },
    {
      "cell_type": "code",
      "metadata": {
        "id": "R8iiBnSZCzAw"
      },
      "source": [
        "def build_model_with_functional():\n",
        "    input_layer = Input(shape=(28,28))\n",
        "    flatten_layer = Flatten()(input_layer)\n",
        "    first_dense = Dense(128,activation='relu')(flatten_layer)\n",
        "    output_layer = Dense(10,activation='softmax')(first_dense)\n",
        "    func_model = Model(inputs=input_layer,outputs=output_layer)\n",
        "    return func_model"
      ],
      "execution_count": null,
      "outputs": []
    },
    {
      "cell_type": "code",
      "metadata": {
        "id": "iF5428GcIh4z"
      },
      "source": [
        "input_layer = Input(shape=(len(train.columns)))\n",
        "first_dense = Dense(units='128',activation='relu')(input_layer)\n",
        "second_dense = Dense(units='128',activation='relu')(first_dense)\n",
        "\n",
        "y1_output = Dense(units='1',name='y1_output')(second_dense)\n",
        "third_dense = Dense(units='64',activation='relu')(second_dense)\n",
        "y2_output = Dense(units='1',name='y2_output')(third_dense)\n",
        "\n",
        "model = Model(inputs=input_layer,outputs=[y1_output,y2_output])"
      ],
      "execution_count": null,
      "outputs": []
    },
    {
      "cell_type": "code",
      "metadata": {
        "id": "l9SjVQeuO7ar"
      },
      "source": [
        ""
      ],
      "execution_count": null,
      "outputs": []
    }
  ]
}