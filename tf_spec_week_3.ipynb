{
  "nbformat": 4,
  "nbformat_minor": 0,
  "metadata": {
    "colab": {
      "name": "tf_spec_week_3.ipynb",
      "provenance": []
    },
    "kernelspec": {
      "name": "python3",
      "display_name": "Python 3"
    },
    "language_info": {
      "name": "python"
    }
  },
  "cells": [
    {
      "cell_type": "code",
      "metadata": {
        "colab": {
          "base_uri": "https://localhost:8080/"
        },
        "id": "c-BQdvEdxKr_",
        "outputId": "fc04a590-55fa-45eb-cbe0-c6383561d398"
      },
      "source": [
        "import tensorflow as tf\n",
        "tf.keras.layers.Lambda(lambda x:tf.abs(x))"
      ],
      "execution_count": null,
      "outputs": [
        {
          "output_type": "execute_result",
          "data": {
            "text/plain": [
              "<tensorflow.python.keras.layers.core.Lambda at 0x7f3e88ed5810>"
            ]
          },
          "metadata": {
            "tags": []
          },
          "execution_count": 1
        }
      ]
    },
    {
      "cell_type": "code",
      "metadata": {
        "id": "jE1IRDi5xXH0"
      },
      "source": [
        "model = tf.keras.models.Sequential([\n",
        "         tf.keras.layers.Flatten(input_shape=(28,28))\n",
        "         tf.keras.layers.Dense(128)\n",
        "         tf.keras.layers.Lambda(lambda x: tf.abs(x)),\n",
        "         tf.keras.layers.Dense(10,activation='softmax')                           \n",
        "])"
      ],
      "execution_count": null,
      "outputs": []
    },
    {
      "cell_type": "code",
      "metadata": {
        "id": "HsaZUxOVyosZ"
      },
      "source": [
        "def my_relu(x):\n",
        "    return K.maximum(0.5,x)"
      ],
      "execution_count": null,
      "outputs": []
    },
    {
      "cell_type": "code",
      "metadata": {
        "id": "MlGhiTBd2kIQ"
      },
      "source": [
        "import tensorflow as tf\n",
        "from tensorflow.keras.layers import Layer\n",
        "class SimpleDense(Layer):\n",
        "    def __init__(self,units=32):\n",
        "        super(SimpleDense,self).__init__()\n",
        "        self.units = units\n",
        "    def build(self,input_shape):\n",
        "        w_init = tf.random_normal_initializer()\n",
        "        self.w = tf.Variable(name=\"kernel\",\n",
        "            initial_value=w_init(shape=(input_shape[-1],self.units),dtype='float32'),\n",
        "            trainable=True)\n",
        "        b_init = tf.zeros_initializer()\n",
        "        self.b = tf.Variable(name=\"bias\",\n",
        "                initial_value=b_init(shape=(self.units,),dtype='float32'),\n",
        "                trainable=True)\n",
        "        \n",
        "    def call(self,inputs):\n",
        "        return tf.matmul(inputs,self.w) +self.b"
      ],
      "execution_count": 2,
      "outputs": []
    },
    {
      "cell_type": "code",
      "metadata": {
        "colab": {
          "base_uri": "https://localhost:8080/"
        },
        "id": "EJN1crE44DkW",
        "outputId": "c014f844-154e-4c2a-81d2-28a216ada72a"
      },
      "source": [
        "my_dense = SimpleDense(units=1)\n",
        "x = tf.ones((1,1))\n",
        "y=my_dense(x)\n",
        "print(my_dense.variables)"
      ],
      "execution_count": 3,
      "outputs": [
        {
          "output_type": "stream",
          "text": [
            "[<tf.Variable 'simple_dense/kernel:0' shape=(1, 1) dtype=float32, numpy=array([[-0.06133641]], dtype=float32)>, <tf.Variable 'simple_dense/bias:0' shape=(1,) dtype=float32, numpy=array([0.], dtype=float32)>]\n"
          ],
          "name": "stdout"
        }
      ]
    },
    {
      "cell_type": "code",
      "metadata": {
        "id": "svy0dq-z5ZZV"
      },
      "source": [
        "class SimpleDense(Layer):\n",
        "    def __init__(self,units=32,activation=None):\n",
        "        super(SimpleDense,self).__init__()\n",
        "        self.units = units\n",
        "        self.activation = tf.keras.activations.get(activation)\n",
        "    def build(self,input_shape):\n",
        "        w_init = tf.random_normal_initializer()\n",
        "        self.w = tf.Variable(name=\"kernel\",\n",
        "            initial_value=w_init(shape=(input_shape[-1],self.units),dtype='float32'),\n",
        "            trainable=True)\n",
        "        b_init = tf.zeros_initializer()\n",
        "        self.b = tf.Variable(name=\"bias\",\n",
        "                initial_value=b_init(shape=(self.units,),dtype='float32'),\n",
        "                trainable=True)\n",
        "        \n",
        "    def call(self,inputs):\n",
        "        return self.activation(tf.matmul(inputs,self.w) +self.b)"
      ],
      "execution_count": 4,
      "outputs": []
    }
  ]
}