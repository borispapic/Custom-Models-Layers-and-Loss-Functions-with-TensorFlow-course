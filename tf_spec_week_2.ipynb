{
  "nbformat": 4,
  "nbformat_minor": 0,
  "metadata": {
    "colab": {
      "name": "tf_spec_week_2.ipynb",
      "provenance": []
    },
    "kernelspec": {
      "name": "python3",
      "display_name": "Python 3"
    },
    "language_info": {
      "name": "python"
    }
  },
  "cells": [
    {
      "cell_type": "code",
      "metadata": {
        "id": "hJreYW1WJLtq"
      },
      "source": [
        "try:\n",
        "  # %tensorflow_version only exists in Colab.\n",
        "  %tensorflow_version 2.x\n",
        "except Exception:\n",
        "  pass"
      ],
      "execution_count": null,
      "outputs": []
    },
    {
      "cell_type": "code",
      "metadata": {
        "id": "qVtV8Pt6iA5k"
      },
      "source": [
        "def my_huber_function(y_true,y_pred):\n",
        "    thresh = 1\n",
        "    error = y_true - y_pred\n",
        "    is_small_error = tf.abs(error) <= thresh\n",
        "    small_error_loss = tf.square(error) / 2\n",
        "    big_error_loss = thresh * (tf.abs(error)-(0.5*thresh))\n",
        "    loss = tf.where(is_small_error,small_error_loss,big_error_loss) #boolean, value to return if true, value to return if false\n",
        "    return loss"
      ],
      "execution_count": null,
      "outputs": []
    },
    {
      "cell_type": "code",
      "metadata": {
        "id": "svaoHzVyHUNC"
      },
      "source": [
        "#considered hello world of ML (?) according to the prof\n",
        "import tensorflow as tf\n",
        "from tensorflow.keras.layers import Dense\n",
        "model = tf.keras.Sequential([Dense(units=1,input_shape=[1])])\n",
        "model.compile(optimizer='sgd',loss='mean_squared_error')\n"
      ],
      "execution_count": null,
      "outputs": []
    },
    {
      "cell_type": "code",
      "metadata": {
        "id": "rbP9h8y9Hww1"
      },
      "source": [
        "model = tf.keras.Sequential([Dense(units=1,input_shape=[1])])\n",
        "model.compile(optimizer='sgd',loss='my_huber_function')"
      ],
      "execution_count": null,
      "outputs": []
    },
    {
      "cell_type": "code",
      "metadata": {
        "id": "TmfRNYaYfxmu"
      },
      "source": [
        "#wrapper function\n",
        "def huber_loss_with_thresh(thresh):\n",
        "    def my_huber_function(y_true,y_pred):\n",
        "        error = y_true - y_pred\n",
        "        is_small_error = tf.abs(error) <= thresh\n",
        "        small_error_loss = tf.square(error) / 2\n",
        "        big_error_loss = thresh * (tf.abs(error)-(0.5*thresh))\n",
        "        loss = tf.where(is_small_error,small_error_loss,big_error_loss) #boolean, value to return if true, value to return if false\n",
        "        return loss\n",
        "    return my_huber_function\n"
      ],
      "execution_count": null,
      "outputs": []
    },
    {
      "cell_type": "code",
      "metadata": {
        "id": "4PFFn9yYgSPf"
      },
      "source": [
        "model.compile(optimizer='sgd',loss=huber_loss_with_thresh(thresh=1))"
      ],
      "execution_count": null,
      "outputs": []
    },
    {
      "cell_type": "code",
      "metadata": {
        "id": "VJm0EfDXgftC"
      },
      "source": [
        "from tensorflow.keras.losses import Loss\n",
        "\n",
        "class HuberLoss(Loss):\n",
        "    threshold = 1\n",
        "    def __init__(self,threshold):\n",
        "        super().__init__()\n",
        "        self.threshold=threshold\n",
        "\n",
        "    def call(self,y_true,y_pred):\n",
        "        error = y_true - y_pred\n",
        "        is_small_error = tf.abs(error) <= threshold\n",
        "        small_error_loss = tf.square(error) / 2\n",
        "        big_error_loss = threshold * (tf.abs(error)-(0.5*threshold))\n",
        "        loss = tf.where(is_small_error,small_error_loss,big_error_loss) #boolean, value to return if true, value to return if false\n",
        "        return loss"
      ],
      "execution_count": null,
      "outputs": []
    },
    {
      "cell_type": "code",
      "metadata": {
        "id": "10TT7tix-m_q"
      },
      "source": [
        "#contrastive loss\n",
        "from tensorflow.keras import backend as K\n",
        "def contrastive_loss_with_margin(margin)\n",
        "    def contrastive_loss(y_true,y_pred):\n",
        "        margin = 1\n",
        "        square_pred = K.square(y_pred)\n",
        "        margin_square = K.square(K.maximum(margin - y_pred,0))\n",
        "        return K.mean(y_true*square_pred + (1-y_true)*margin_square)\n",
        "    return contrastive_loss\n",
        "\n",
        "model.compile(loss=contrastive_loss_with_margin(margin=1),optimizer=rms)"
      ],
      "execution_count": null,
      "outputs": []
    },
    {
      "cell_type": "code",
      "metadata": {
        "id": "TojLWKmAAyR7"
      },
      "source": [
        "class ContrastiveLoss(Loss):\n",
        "    margin=0\n",
        "    def __init__(self,margin):\n",
        "        super().__init__()\n",
        "        self.margin = margin\n",
        "\n",
        "    def call(self,y_true,y_pred):\n",
        "        square_pred = K.square(y_pred)\n",
        "        margin_square = K.square(K.maximum(self.margin - y_pred,0))\n",
        "        return K.mean(y_true*square_pred + (1-y_true)*margin_square)"
      ],
      "execution_count": null,
      "outputs": []
    }
  ]
}